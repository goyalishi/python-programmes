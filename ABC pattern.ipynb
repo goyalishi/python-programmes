{
 "cells": [
  {
   "cell_type": "code",
   "execution_count": 7,
   "metadata": {},
   "outputs": [
    {
     "name": "stdout",
     "output_type": "stream",
     "text": [
      "AAA\n",
      "BBB\n",
      "CCC\n"
     ]
    }
   ],
   "source": [
    "n=int(input(\"enter size\"))\n",
    "for i in range(n):\n",
    "    print(chr(65+i)*n)\n",
    "    "
   ]
  },
  {
   "cell_type": "code",
   "execution_count": 4,
   "metadata": {},
   "outputs": [
    {
     "name": "stdout",
     "output_type": "stream",
     "text": [
      "A B C \n",
      "A B C \n",
      "A B C \n"
     ]
    }
   ],
   "source": [
    "#ABC pattern in 2 loops\n",
    "n=int(input(\"enter size\"))\n",
    "for i in range(n):\n",
    "    for j in range(n):\n",
    "        print(chr(65+j),end=' ')\n",
    "    print()"
   ]
  },
  {
   "cell_type": "code",
   "execution_count": 2,
   "metadata": {},
   "outputs": [
    {
     "name": "stdout",
     "output_type": "stream",
     "text": [
      "ABC \n",
      "ABC \n",
      "ABC \n",
      "\n"
     ]
    }
   ],
   "source": [
    "#ABC pattern in 1 loop\n",
    "s=''     #empty string\n",
    "n=int(input(\"enter size\"))\n",
    "for i in range(n):\n",
    "    s+=chr(65+i)\n",
    "print((s+'\\n')*n)"
   ]
  },
  {
   "cell_type": "code",
   "execution_count": 5,
   "metadata": {},
   "outputs": [
    {
     "name": "stdout",
     "output_type": "stream",
     "text": [
      "A \n",
      "A B \n",
      "A B C \n",
      "A B C D \n",
      "A B C D E \n"
     ]
    }
   ],
   "source": [
    "# USING TWO LOOPS\n",
    "n=int(input())\n",
    "for i in range (n):\n",
    "    for j in range (i+1):\n",
    "        print(chr(65+j),end=' ')\n",
    "    print()\n"
   ]
  },
  {
   "cell_type": "code",
   "execution_count": 7,
   "metadata": {},
   "outputs": [
    {
     "name": "stdout",
     "output_type": "stream",
     "text": [
      "A \n",
      "A B \n",
      "A B C \n",
      "A B C D \n",
      "A B C D E \n"
     ]
    }
   ],
   "source": [
    "# USING SINGLE LOOP WITH EMPTY STRING\n",
    "n=int(input())\n",
    "s=''\n",
    "for i in range (n):\n",
    "    s+=chr(65+i)+' '\n",
    "    print(s)"
   ]
  },
  {
   "cell_type": "code",
   "execution_count": 1,
   "metadata": {},
   "outputs": [
    {
     "name": "stdout",
     "output_type": "stream",
     "text": [
      "    A\n",
      "   BB\n",
      "  CCC\n",
      " DDDD\n"
     ]
    }
   ],
   "source": [
    "n=int(input())\n",
    "for i in range(n):\n",
    "    print(' '*(n-1-i),chr(65+i)*(i+1))"
   ]
  },
  {
   "cell_type": "code",
   "execution_count": 8,
   "metadata": {},
   "outputs": [
    {
     "name": "stdout",
     "output_type": "stream",
     "text": [
      "A \n",
      "B C \n",
      "D E F \n",
      "G H I J \n"
     ]
    }
   ],
   "source": [
    "n=int(input())\n",
    "count=0\n",
    "for i in range (n):\n",
    "    for j in range (i+1):\n",
    "        print(chr(count+65),end=' ')\n",
    "        count+=1\n",
    "    print()    "
   ]
  }
 ],
 "metadata": {
  "kernelspec": {
   "display_name": "Python 3",
   "language": "python",
   "name": "python3"
  },
  "language_info": {
   "codemirror_mode": {
    "name": "ipython",
    "version": 3
   },
   "file_extension": ".py",
   "mimetype": "text/x-python",
   "name": "python",
   "nbconvert_exporter": "python",
   "pygments_lexer": "ipython3",
   "version": "3.11.2"
  },
  "orig_nbformat": 4,
  "vscode": {
   "interpreter": {
    "hash": "8e78f0197b4980055e2bc45d26be2e4615f01851326e1ed3a0c731c4b5c09364"
   }
  }
 },
 "nbformat": 4,
 "nbformat_minor": 2
}
